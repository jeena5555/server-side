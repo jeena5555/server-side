{
 "cells": [
  {
   "cell_type": "code",
   "execution_count": 1,
   "id": "f9770d61",
   "metadata": {},
   "outputs": [],
   "source": [
    "import os\n",
    "os.environ[\"DJANGO_ALLOW_ASYNC_UNSAFE\"] = \"true\""
   ]
  },
  {
   "cell_type": "code",
   "execution_count": 2,
   "id": "8ff0bfe3",
   "metadata": {},
   "outputs": [
    {
     "name": "stdout",
     "output_type": "stream",
     "text": [
      "ORDER ID:22, DATE: 2024-05-01, PRICE: 4890.00\n",
      "ORDER ID:23, DATE: 2024-05-01, PRICE: 2540.00\n",
      "ORDER ID:24, DATE: 2024-05-01, PRICE: 1720.00\n",
      "ORDER ID:25, DATE: 2024-05-02, PRICE: 322499.00\n",
      "ORDER ID:26, DATE: 2024-05-02, PRICE: 3399.00\n",
      "ORDER ID:27, DATE: 2024-05-02, PRICE: 1190.00\n",
      "ORDER ID:28, DATE: 2024-05-03, PRICE: 9499.00\n",
      "ORDER ID:29, DATE: 2024-05-03, PRICE: 700.00\n",
      "ORDER ID:30, DATE: 2024-05-03, PRICE: 1690.00\n",
      "ORDER ID:31, DATE: 2024-05-04, PRICE: 3280.00\n"
     ]
    }
   ],
   "source": [
    "from shop.models import Order\n",
    "ord = Order.objects.filter(order_date__month=5)[:10]\n",
    "for obj in ord:\n",
    "    print(f\"ORDER ID:{obj.id}, DATE: {obj.order_date}, PRICE: {obj.payment.price}\")"
   ]
  },
  {
   "cell_type": "code",
   "execution_count": null,
   "id": "e7d6cdc4",
   "metadata": {},
   "outputs": [],
   "source": []
  },
  {
   "cell_type": "code",
   "execution_count": 10,
   "id": "826f10dc",
   "metadata": {},
   "outputs": [
    {
     "name": "stdout",
     "output_type": "stream",
     "text": [
      "PRODUCT ID: 1, DESCRIPTION: A sleek and powerful smartphone with advanced features.\n",
      "PRODUCT ID: 7, DESCRIPTION: High-resolution digital camera with advanced photography features.\n",
      "PRODUCT ID: 10, DESCRIPTION: A stylish smartwatch with health monitoring and notification features.\n",
      "PRODUCT ID: 14, DESCRIPTION: Split air conditioner with remote control and energy-saving features.\n",
      "PRODUCT ID: 45, DESCRIPTION: Customizable racing track set with loop and jump features.\n"
     ]
    }
   ],
   "source": [
    "from shop.models import Product\n",
    "product = Product.objects.filter(description__endswith='features.')\n",
    "for prod in product:\n",
    "    print(f\"PRODUCT ID: {prod.id}, DESCRIPTION: {prod.description}\")"
   ]
  },
  {
   "cell_type": "code",
   "execution_count": 28,
   "id": "246d6e51",
   "metadata": {},
   "outputs": [
    {
     "name": "stdout",
     "output_type": "stream",
     "text": [
      "PRODUCT ID: 1, NAME: Smartphone, PRICE: 5900.00\n",
      "PRODUCT ID: 2, NAME: Laptop, PRICE: 25999.00\n",
      "PRODUCT ID: 3, NAME: Smart TV, PRICE: 8900.00\n",
      "PRODUCT ID: 5, NAME: Tablet, PRICE: 12900.00\n",
      "PRODUCT ID: 6, NAME: Gaming Console, PRICE: 5000.00\n",
      "PRODUCT ID: 7, NAME: Digital Camera, PRICE: 32000.00\n",
      "PRODUCT ID: 69, NAME: Notebook HP Pavilion Silver, PRICE: 20000.00\n",
      "PRODUCT ID: 72, NAME: Notebook HP Pavilion Silver, PRICE: 20000.00\n"
     ]
    }
   ],
   "source": [
    "from shop.models import Product, ProductCategory\n",
    "\n",
    "information_technology = ProductCategory.objects.get(name=\"Information Technology\")\n",
    "\n",
    "products = Product.objects.filter(price__gte=5000.00, categories=information_technology)\n",
    "\n",
    "for prod in products:\n",
    "    print(f\"PRODUCT ID: {prod.id}, NAME: {prod.name}, PRICE: {prod.price}\")"
   ]
  },
  {
   "cell_type": "code",
   "execution_count": 11,
   "id": "38024ac5",
   "metadata": {},
   "outputs": [
    {
     "name": "stdout",
     "output_type": "stream",
     "text": [
      "PRODUCT ID: 28, NAME: Women's Sweater, PRICE: 190.00\n",
      "PRODUCT ID: 66, NAME: Salvage the Bones, PRICE: 129.00\n"
     ]
    }
   ],
   "source": [
    "from shop.models import Product\n",
    "products = Product.objects.filter(price__gt=100.00, price__lt=200.00)\n",
    "for prod in products:\n",
    "    print(f\"PRODUCT ID: {prod.id}, NAME: {prod.name}, PRICE: {prod.price}\")"
   ]
  },
  {
   "cell_type": "code",
   "execution_count": null,
   "id": "c7088898",
   "metadata": {},
   "outputs": [],
   "source": []
  },
  {
   "cell_type": "code",
   "execution_count": 29,
   "id": "d6f6b056",
   "metadata": {},
   "outputs": [
    {
     "ename": "DoesNotExist",
     "evalue": "ProductCategory matching query does not exist.",
     "output_type": "error",
     "traceback": [
      "\u001b[0;31m---------------------------------------------------------------------------\u001b[0m",
      "\u001b[0;31mDoesNotExist\u001b[0m                              Traceback (most recent call last)",
      "Cell \u001b[0;32mIn[29], line 3\u001b[0m\n\u001b[1;32m      1\u001b[0m \u001b[38;5;28;01mfrom\u001b[39;00m \u001b[38;5;21;01mshop\u001b[39;00m\u001b[38;5;21;01m.\u001b[39;00m\u001b[38;5;21;01mmodels\u001b[39;00m \u001b[38;5;28;01mimport\u001b[39;00m Product, ProductCategory\n\u001b[0;32m----> 3\u001b[0m books_and_media \u001b[38;5;241m=\u001b[39m \u001b[43mProductCategory\u001b[49m\u001b[38;5;241;43m.\u001b[39;49m\u001b[43mobjects\u001b[49m\u001b[38;5;241;43m.\u001b[39;49m\u001b[43mget\u001b[49m\u001b[43m(\u001b[49m\u001b[43mname\u001b[49m\u001b[38;5;241;43m=\u001b[39;49m\u001b[38;5;124;43m\"\u001b[39;49m\u001b[38;5;124;43mBooks and Media\u001b[39;49m\u001b[38;5;124;43m\"\u001b[39;49m\u001b[43m)\u001b[49m\n\u001b[1;32m      4\u001b[0m information_technology \u001b[38;5;241m=\u001b[39m ProductCategory\u001b[38;5;241m.\u001b[39mobjects\u001b[38;5;241m.\u001b[39mget(name\u001b[38;5;241m=\u001b[39m\u001b[38;5;124m\"\u001b[39m\u001b[38;5;124mInformation Technology\u001b[39m\u001b[38;5;124m\"\u001b[39m)\n\u001b[1;32m      5\u001b[0m electronics \u001b[38;5;241m=\u001b[39m ProductCategory\u001b[38;5;241m.\u001b[39mobjects\u001b[38;5;241m.\u001b[39mget(name\u001b[38;5;241m=\u001b[39m\u001b[38;5;124m\"\u001b[39m\u001b[38;5;124mElectronics\u001b[39m\u001b[38;5;124m\"\u001b[39m)\n",
      "File \u001b[0;32m~/Desktop/week4/myvenv4/lib/python3.11/site-packages/django/db/models/manager.py:87\u001b[0m, in \u001b[0;36mBaseManager._get_queryset_methods.<locals>.create_method.<locals>.manager_method\u001b[0;34m(self, *args, **kwargs)\u001b[0m\n\u001b[1;32m     85\u001b[0m \u001b[38;5;129m@wraps\u001b[39m(method)\n\u001b[1;32m     86\u001b[0m \u001b[38;5;28;01mdef\u001b[39;00m \u001b[38;5;21mmanager_method\u001b[39m(\u001b[38;5;28mself\u001b[39m, \u001b[38;5;241m*\u001b[39margs, \u001b[38;5;241m*\u001b[39m\u001b[38;5;241m*\u001b[39mkwargs):\n\u001b[0;32m---> 87\u001b[0m     \u001b[38;5;28;01mreturn\u001b[39;00m \u001b[38;5;28;43mgetattr\u001b[39;49m\u001b[43m(\u001b[49m\u001b[38;5;28;43mself\u001b[39;49m\u001b[38;5;241;43m.\u001b[39;49m\u001b[43mget_queryset\u001b[49m\u001b[43m(\u001b[49m\u001b[43m)\u001b[49m\u001b[43m,\u001b[49m\u001b[43m \u001b[49m\u001b[43mname\u001b[49m\u001b[43m)\u001b[49m\u001b[43m(\u001b[49m\u001b[38;5;241;43m*\u001b[39;49m\u001b[43margs\u001b[49m\u001b[43m,\u001b[49m\u001b[43m \u001b[49m\u001b[38;5;241;43m*\u001b[39;49m\u001b[38;5;241;43m*\u001b[39;49m\u001b[43mkwargs\u001b[49m\u001b[43m)\u001b[49m\n",
      "File \u001b[0;32m~/Desktop/week4/myvenv4/lib/python3.11/site-packages/django/db/models/query.py:649\u001b[0m, in \u001b[0;36mQuerySet.get\u001b[0;34m(self, *args, **kwargs)\u001b[0m\n\u001b[1;32m    647\u001b[0m     \u001b[38;5;28;01mreturn\u001b[39;00m clone\u001b[38;5;241m.\u001b[39m_result_cache[\u001b[38;5;241m0\u001b[39m]\n\u001b[1;32m    648\u001b[0m \u001b[38;5;28;01mif\u001b[39;00m \u001b[38;5;129;01mnot\u001b[39;00m num:\n\u001b[0;32m--> 649\u001b[0m     \u001b[38;5;28;01mraise\u001b[39;00m \u001b[38;5;28mself\u001b[39m\u001b[38;5;241m.\u001b[39mmodel\u001b[38;5;241m.\u001b[39mDoesNotExist(\n\u001b[1;32m    650\u001b[0m         \u001b[38;5;124m\"\u001b[39m\u001b[38;5;132;01m%s\u001b[39;00m\u001b[38;5;124m matching query does not exist.\u001b[39m\u001b[38;5;124m\"\u001b[39m \u001b[38;5;241m%\u001b[39m \u001b[38;5;28mself\u001b[39m\u001b[38;5;241m.\u001b[39mmodel\u001b[38;5;241m.\u001b[39m_meta\u001b[38;5;241m.\u001b[39mobject_name\n\u001b[1;32m    651\u001b[0m     )\n\u001b[1;32m    652\u001b[0m \u001b[38;5;28;01mraise\u001b[39;00m \u001b[38;5;28mself\u001b[39m\u001b[38;5;241m.\u001b[39mmodel\u001b[38;5;241m.\u001b[39mMultipleObjectsReturned(\n\u001b[1;32m    653\u001b[0m     \u001b[38;5;124m\"\u001b[39m\u001b[38;5;124mget() returned more than one \u001b[39m\u001b[38;5;132;01m%s\u001b[39;00m\u001b[38;5;124m -- it returned \u001b[39m\u001b[38;5;132;01m%s\u001b[39;00m\u001b[38;5;124m!\u001b[39m\u001b[38;5;124m\"\u001b[39m\n\u001b[1;32m    654\u001b[0m     \u001b[38;5;241m%\u001b[39m (\n\u001b[0;32m   (...)\u001b[0m\n\u001b[1;32m    657\u001b[0m     )\n\u001b[1;32m    658\u001b[0m )\n",
      "\u001b[0;31mDoesNotExist\u001b[0m: ProductCategory matching query does not exist."
     ]
    }
   ],
   "source": [
    "from shop.models import Product, ProductCategory\n",
    "\n",
    "books_and_media = ProductCategory.objects.get(name=\"Books and Media\")\n",
    "information_technology = ProductCategory.objects.get(name=\"Information Technology\")\n",
    "electronics = ProductCategory.objects.get(name=\"Electronics\")\n",
    "\n",
    "\n",
    "\n",
    "product1 = Product.objects.create(\n",
    "    name=\"Philosopher's Stone (1997)\",\n",
    "    description=\"By J. K. Rowling.\",\n",
    "    remaining_amount=20,\n",
    "    price=790.00\n",
    ")\n",
    "product1.categories.add(books_and_media)\n",
    "\n",
    "product2 = Product.objects.create(\n",
    "    name=\"Me Before You\",\n",
    "    description=\"A romance novel written by Jojo\",\n",
    "    remaining_amount=40,\n",
    "    price=390.00\n",
    ")\n",
    "product2.categories.add(books_and_media)\n",
    "\n",
    "product3 = Product.objects.create(\n",
    "    name=\"Notebook HP Pavilion Silver\",\n",
    "    description=\"Display Screen. 16.0\",\n",
    "    remaining_amount=10,\n",
    "    price=20000.00\n",
    ")\n",
    "product3.categories.add(information_technology, electronics)\n",
    "\n"
   ]
  },
  {
   "cell_type": "code",
   "execution_count": null,
   "id": "4ec9edda",
   "metadata": {},
   "outputs": [],
   "source": []
  },
  {
   "cell_type": "code",
   "execution_count": 23,
   "id": "6c2ff801",
   "metadata": {},
   "outputs": [],
   "source": [
    "from shop.models import Product\n",
    "product_update = Product.objects.get(name=\"Philosopher's Stone (1997)\")\n",
    "\n",
    "product_update.name = \"Half-Blood Prince (2005)\"\n",
    "\n",
    "product_update.save()"
   ]
  },
  {
   "cell_type": "code",
   "execution_count": null,
   "id": "58436606",
   "metadata": {},
   "outputs": [],
   "source": []
  },
  {
   "cell_type": "code",
   "execution_count": 24,
   "id": "740bf473",
   "metadata": {},
   "outputs": [],
   "source": [
    "from shop.models import ProductCategory\n",
    "\n",
    "prod_cat_update = ProductCategory.objects.get(name=\"Books and Media\")\n",
    "\n",
    "prod_cat_update.name = \"Books\"\n",
    "\n",
    "prod_cat_update.save()"
   ]
  },
  {
   "cell_type": "code",
   "execution_count": null,
   "id": "0287bd4b",
   "metadata": {},
   "outputs": [],
   "source": []
  },
  {
   "cell_type": "code",
   "execution_count": 26,
   "id": "3a0335a2",
   "metadata": {},
   "outputs": [
    {
     "data": {
      "text/plain": [
       "(8, {'shop.Product_categories': 4, 'shop.Product': 4})"
      ]
     },
     "execution_count": 26,
     "metadata": {},
     "output_type": "execute_result"
    }
   ],
   "source": [
    "from shop.models import Product, ProductCategory\n",
    "\n",
    "books_category = ProductCategory.objects.get(name=\"Books\")\n",
    "\n",
    "products_in_books = Product.objects.filter(categories=books_category)\n",
    "\n",
    "products_in_books.delete()"
   ]
  },
  {
   "cell_type": "code",
   "execution_count": null,
   "id": "9b8170ae",
   "metadata": {},
   "outputs": [],
   "source": []
  }
 ],
 "metadata": {
  "kernelspec": {
   "display_name": "Django Shell-Plus",
   "language": "python",
   "name": "django_extensions"
  },
  "language_info": {
   "codemirror_mode": {
    "name": "ipython",
    "version": 3
   },
   "file_extension": ".py",
   "mimetype": "text/x-python",
   "name": "python",
   "nbconvert_exporter": "python",
   "pygments_lexer": "ipython3",
   "version": "3.11.7"
  }
 },
 "nbformat": 4,
 "nbformat_minor": 5
}
