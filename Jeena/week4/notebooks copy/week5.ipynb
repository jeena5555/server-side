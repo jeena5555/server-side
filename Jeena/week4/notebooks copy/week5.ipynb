{
 "cells": [
  {
   "cell_type": "code",
   "execution_count": 1,
   "id": "8dc2ae44",
   "metadata": {},
   "outputs": [],
   "source": [
    "import os\n",
    "os.environ['DJANGO_ALLOW_ASYNC_UNSAFE'] = \"true\"\n",
    "\n",
    "# import modules\n",
    "from shop.models import *"
   ]
  },
  {
   "cell_type": "raw",
   "id": "65da3d10",
   "metadata": {},
   "source": [
    "1. annotate(), F()\n",
    "# 1.1 ให้นักศึกษาค้นหาข้อมูล Payment โดยให้เพิ่ม field ราคาที่ลบกับส่วนลดแล้ว โดยกำหนดให้ชื่อ field ว่า \"after_discount_price\" โดยใช้แสดงข้อมูล 10 ตัวแรกเรียงตาม \"after_discount_price\" จากมากไปน้อย (0.25 คะแนน)\n",
    "\n",
    "หมายเหตุ: จะต้องใช้ annotate() นะครับ ให้เอา Payment.price - Payment.discount"
   ]
  },
  {
   "cell_type": "code",
   "execution_count": 15,
   "id": "33c224a1",
   "metadata": {},
   "outputs": [
    {
     "name": "stdout",
     "output_type": "stream",
     "text": [
      "ID: 92, PRICE: 1200500.00, DISCOUNT: 29433.25, AFTER_DISCOUNT: 1171066.75\n",
      "ID: 82, PRICE: 1200280.00, DISCOUNT: 46229.40, AFTER_DISCOUNT: 1154050.60\n",
      "ID: 137, PRICE: 1200690.00, DISCOUNT: 71407.25, AFTER_DISCOUNT: 1129282.75\n",
      "ID: 105, PRICE: 1200390.00, DISCOUNT: 105019.11, AFTER_DISCOUNT: 1095370.89\n",
      "ID: 45, PRICE: 1218900.00, DISCOUNT: 126859.95, AFTER_DISCOUNT: 1092040.05\n",
      "ID: 7, PRICE: 1201200.00, DISCOUNT: 113446.20, AFTER_DISCOUNT: 1087753.80\n",
      "ID: 18, PRICE: 1202190.00, DISCOUNT: 121922.64, AFTER_DISCOUNT: 1080267.36\n",
      "ID: 77, PRICE: 379000.00, DISCOUNT: 19397.00, AFTER_DISCOUNT: 359603.00\n",
      "ID: 127, PRICE: 320450.00, DISCOUNT: 14578.90, AFTER_DISCOUNT: 305871.10\n",
      "ID: 125, PRICE: 320399.00, DISCOUNT: 17939.55, AFTER_DISCOUNT: 302459.45\n"
     ]
    }
   ],
   "source": [
    "total = Payment.objects.annotate(after_discount_price= F('price') - F('discount')).order_by('-after_discount_price')[:10]\n",
    "\n",
    "for payment in total:\n",
    "    print(\n",
    "        f\"ID: {payment.id}, PRICE: {payment.price}, \"\n",
    "        f\"DISCOUNT: {payment.discount}, AFTER_DISCOUNT: {payment.after_discount_price}\"\n",
    "    )"
   ]
  },
  {
   "cell_type": "raw",
   "id": "c8fa647b",
   "metadata": {},
   "source": [
    "1.2 ต่อเนื่องจากข้อ 1.1 ให้ filter เฉพาะข้อมูล Payment ที่มี \"after_discount_price\" มากกว่า 500,000 (0.25 คะแนน)"
   ]
  },
  {
   "cell_type": "code",
   "execution_count": 18,
   "id": "ad2058e8",
   "metadata": {},
   "outputs": [
    {
     "name": "stdout",
     "output_type": "stream",
     "text": [
      "ID: 92, PRICE: 1200500.00, DISCOUNT: 29433.25, AFTER_DISCOUNT: 1171066.75\n",
      "ID: 82, PRICE: 1200280.00, DISCOUNT: 46229.40, AFTER_DISCOUNT: 1154050.60\n",
      "ID: 137, PRICE: 1200690.00, DISCOUNT: 71407.25, AFTER_DISCOUNT: 1129282.75\n",
      "ID: 105, PRICE: 1200390.00, DISCOUNT: 105019.11, AFTER_DISCOUNT: 1095370.89\n",
      "ID: 45, PRICE: 1218900.00, DISCOUNT: 126859.95, AFTER_DISCOUNT: 1092040.05\n",
      "ID: 7, PRICE: 1201200.00, DISCOUNT: 113446.20, AFTER_DISCOUNT: 1087753.80\n",
      "ID: 18, PRICE: 1202190.00, DISCOUNT: 121922.64, AFTER_DISCOUNT: 1080267.36\n"
     ]
    }
   ],
   "source": [
    "total = Payment.objects.annotate(after_discount_price= F('price') - F('discount')\n",
    "                                ).filter(after_discount_price__gt=500000).order_by('-after_discount_price')[:10]\n",
    "\n",
    "for payment in total:\n",
    "    print(\n",
    "        f\"ID: {payment.id}, PRICE: {payment.price}, \"\n",
    "        f\"DISCOUNT: {payment.discount}, AFTER_DISCOUNT: {payment.after_discount_price}\"\n",
    "    )"
   ]
  },
  {
   "cell_type": "raw",
   "id": "f0c5a211",
   "metadata": {},
   "source": [
    "1.3 ให้นักศึกษาเรียงลำดับข้อมูลลูกค้า (Customer) โดยเรียงลำดับตามลำดับตัวอักษร น้อยไปมาก จากชื่อเต็มของลูกค้า (full_name) โดยแสดง 5 คนแรก (0.5 คะแนน)\n",
    "Hint: Field full_name นั้นจะต้องถูก annotate ขึ้นมาโดยการนำ first_name มาต่อกับ last_name โดยใช้ Concat(*expressions, **extra)\n",
    "\n",
    "Hint: แปลง object เป็น dict ใช้ values() doc\n",
    "\n",
    ">>> Blog.objects.filter(name__startswith=\"Beatles\").values()\n",
    "<QuerySet [{'id': 1, 'name': 'Beatles Blog', 'tagline': 'All the latest Beatles news.'}]>\n",
    "Hint: อยาก print dictionary สวยๆ ใช้ json.dumps\n",
    "\n",
    "print(json.dumps(dictionary, indent=4, sort_keys=False))"
   ]
  },
  {
   "cell_type": "code",
   "execution_count": 74,
   "id": "1525205a",
   "metadata": {},
   "outputs": [
    {
     "name": "stdout",
     "output_type": "stream",
     "text": [
      "[\n",
      "    {\n",
      "        \"id\": 17,\n",
      "        \"email\": \"anantaya.deena@gmail.com\",\n",
      "        \"address\": {\n",
      "            \"district\": \"Yan Nawa\",\n",
      "            \"location\": \"60 Thanon Chan Road\",\n",
      "            \"province\": \"Bangkok\",\n",
      "            \"postal_code\": 10120\n",
      "        },\n",
      "        \"full_name\": \"Anantaya Tontong\"\n",
      "    },\n",
      "    {\n",
      "        \"id\": 25,\n",
      "        \"email\": \"bancha.zeyou@gmail.com\",\n",
      "        \"address\": {\n",
      "            \"district\": \"Watthana\",\n",
      "            \"location\": \"6 Thong Lo Road\",\n",
      "            \"province\": \"Bangkok\",\n",
      "            \"postal_code\": 10110\n",
      "        },\n",
      "        \"full_name\": \"Bancha Kittisompong\"\n",
      "    },\n",
      "    {\n",
      "        \"id\": 19,\n",
      "        \"email\": \"chayapol.231@gmail.com\",\n",
      "        \"address\": {\n",
      "            \"district\": \"Hang Chat\",\n",
      "            \"location\": \"160 Lampang Road\",\n",
      "            \"province\": \"Lampang\",\n",
      "            \"postal_code\": 52190\n",
      "        },\n",
      "        \"full_name\": \"Chayapol Komprach\"\n",
      "    },\n",
      "    {\n",
      "        \"id\": 4,\n",
      "        \"email\": \"dejwit.tt@gmail.com\",\n",
      "        \"address\": {\n",
      "            \"district\": \"Chiang Khan\",\n",
      "            \"location\": \"150 Loei Road\",\n",
      "            \"province\": \"Loei\",\n",
      "            \"postal_code\": 42110\n",
      "        },\n",
      "        \"full_name\": \"Dejwit Tangjareonsakul\"\n",
      "    },\n",
      "    {\n",
      "        \"id\": 11,\n",
      "        \"email\": \"jack.maa@gmail.com\",\n",
      "        \"address\": {\n",
      "            \"district\": \"Bang Khen\",\n",
      "            \"location\": \"88 Phahonyothin Road\",\n",
      "            \"province\": \"Bangkok\",\n",
      "            \"postal_code\": 10220\n",
      "        },\n",
      "        \"full_name\": \"Jack Maa\"\n",
      "    }\n",
      "]\n"
     ]
    }
   ],
   "source": [
    "customers = Customer.objects.annotate(full_name=Concat(F('first_name'), Value(' '), F('last_name'))\n",
    "                                     ).order_by('full_name')[:5].values('id', 'email', 'address', 'full_name')\n",
    "\n",
    "total = list(customers)\n",
    "\n",
    "\n",
    "print(json.dumps(total, indent=4, sort_keys=False))"
   ]
  },
  {
   "cell_type": "raw",
   "id": "925e82e4",
   "metadata": {},
   "source": [
    "3. aggregation - count(), sum(), AVG()\n",
    "3.1 ให้นักศึกษาหาค่าเฉลี่ยของราคาสินค้า (Product.price) ที่มีจำนวนคงเหลือ (Product.remaining_amount) มากกว่า 0 (0.25 คะแนน)"
   ]
  },
  {
   "cell_type": "code",
   "execution_count": 25,
   "id": "a9f96d67",
   "metadata": {},
   "outputs": [
    {
     "name": "stdout",
     "output_type": "stream",
     "text": [
      "{'avg': Decimal('28593.848484848485')}\n"
     ]
    }
   ],
   "source": [
    "average_price = Product.objects.filter(remaining_amount__gt=0).aggregate(avg=Avg('price'))\n",
    "\n",
    "print(average_price)"
   ]
  },
  {
   "cell_type": "raw",
   "id": "79b43557",
   "metadata": {},
   "source": [
    "3.2 จงหาผลรวมราคา (CartItem.product.price) ที่อยู่ในตระกร้าสินค้าของเดือน พฤษภาคม (ดูจาก Cart.create_date) (0.5 คะแนน)"
   ]
  },
  {
   "cell_type": "code",
   "execution_count": 31,
   "id": "fc8150e3",
   "metadata": {},
   "outputs": [
    {
     "name": "stdout",
     "output_type": "stream",
     "text": [
      "{'sum': Decimal('9912555.00')}\n"
     ]
    }
   ],
   "source": [
    "sum_price = CartItem.objects.filter(cart__create_date__month = 5). aggregate(sum=Sum('product__price'))\n",
    "\n",
    "print(sum_price)"
   ]
  },
  {
   "cell_type": "raw",
   "id": "2599ef2c",
   "metadata": {},
   "source": [
    "3.3 ให้นักศึกษานับจำนวนสินค้าที่อยู่ประเภท Electronics, Jewelry และ ราคาของสินค้าอยู่ในช่วง 8,000.00 - 50,000.00 (0.25 คะแนน)"
   ]
  },
  {
   "cell_type": "code",
   "execution_count": 75,
   "id": "152ca79d",
   "metadata": {},
   "outputs": [
    {
     "name": "stdout",
     "output_type": "stream",
     "text": [
      "PRODUCT CATEGORY NAME: Electronics, PRODUCT COUNT: 8\n",
      "PRODUCT CATEGORY NAME: Jewelry, PRODUCT COUNT: 1\n"
     ]
    }
   ],
   "source": [
    "products_in_categories = Product.objects.filter(Q(categories__name='Electronics') | Q(categories__name='Jewelry'),\n",
    "    price__gte=8000.00, price__lte=50000.00).values('categories__name').annotate(product_count=Count('id'))\n",
    "\n",
    "for entry in products_in_categories:\n",
    "    print(f\"PRODUCT CATEGORY NAME: {entry['categories__name']}, PRODUCT COUNT: {entry['product_count']}\")"
   ]
  },
  {
   "cell_type": "raw",
   "id": "7522f659",
   "metadata": {},
   "source": [
    "5. many-to-many\n",
    "5.1 ให้นักศึกษาค้นหาข้อมูลสินค้า (Product) ที่อยู่ในประเภทสินค้า \"Information Technology\" 10 รายการแรก \n",
    "(เรียงลำดับด้วย Product.id) และแสดงชื่อประเภทสินค้า (ProductCategory) (0.25 คะแนน)"
   ]
  },
  {
   "cell_type": "code",
   "execution_count": 41,
   "id": "e41ecb3a",
   "metadata": {},
   "outputs": [
    {
     "name": "stdout",
     "output_type": "stream",
     "text": [
      "PRODUCT ID: 1, PRODUCT NAME: Smartphone, PRODUCT CATEGORY: Information Technology\n",
      "PRODUCT ID: 2, PRODUCT NAME: Laptop, PRODUCT CATEGORY: Information Technology\n",
      "PRODUCT ID: 3, PRODUCT NAME: Smart TV, PRODUCT CATEGORY: Information Technology\n",
      "PRODUCT ID: 4, PRODUCT NAME: Bluetooth Earphones, PRODUCT CATEGORY: Information Technology\n",
      "PRODUCT ID: 5, PRODUCT NAME: Tablet, PRODUCT CATEGORY: Information Technology\n",
      "PRODUCT ID: 6, PRODUCT NAME: Gaming Console, PRODUCT CATEGORY: Information Technology\n",
      "PRODUCT ID: 7, PRODUCT NAME: Digital Camera, PRODUCT CATEGORY: Information Technology\n",
      "PRODUCT ID: 8, PRODUCT NAME: Wireless Router, PRODUCT CATEGORY: Information Technology\n",
      "PRODUCT ID: 9, PRODUCT NAME: Portable Power Bank, PRODUCT CATEGORY: Information Technology\n",
      "PRODUCT ID: 10, PRODUCT NAME: Smartwatch, PRODUCT CATEGORY: Information Technology\n",
      "PRODUCT ID: 69, PRODUCT NAME: Notebook HP Pavilion Silver, PRODUCT CATEGORY: Information Technology\n",
      "PRODUCT ID: 72, PRODUCT NAME: Notebook HP Pavilion Silver, PRODUCT CATEGORY: Information Technology\n"
     ]
    }
   ],
   "source": [
    "products = Product.objects.filter(categories__name='Information Technology').order_by('id').values('id', 'name', 'categories__name')\n",
    "\n",
    "for product in products:\n",
    "    print(f\"PRODUCT ID: {product['id']}, PRODUCT NAME: {product['name']}, PRODUCT CATEGORY: {product['categories__name']}\")"
   ]
  },
  {
   "cell_type": "raw",
   "id": "820076bf",
   "metadata": {},
   "source": [
    "5.2 ให้นักศึกษาทำตามขั้นตอนดังนี้ (0.25 คะแนน)\n",
    "\n",
    "หมายเหตุ: ถ้าใช้ DB จาก WEEK4 Books and Media อาจจะถูกเปลี่ยนเป็น Books แล้ว\n",
    "\n",
    "1. เปลี่ยนชื่อประเภทสินค้า `Books and Media` เป็น `Books and Toys` \n",
    "2. ลบประเภท `Toys and Games` ออกโดยให้ใช้เป็น `Books and Toys` แทน\n",
    "3. ค้นหาว่าสินค้าที่มีประเภทสินค้าเป็น `Books and Toys` ทั้งหมดมีจำนวนเท่าไหร่"
   ]
  },
  {
   "cell_type": "code",
   "execution_count": 68,
   "id": "cee4e8d5",
   "metadata": {},
   "outputs": [
    {
     "data": {
      "text/plain": [
       "0"
      ]
     },
     "execution_count": 68,
     "metadata": {},
     "output_type": "execute_result"
    }
   ],
   "source": [
    "ProductCategory.objects.filter(name='Books').update(name = 'Books and Toys')"
   ]
  },
  {
   "cell_type": "code",
   "execution_count": 76,
   "id": "2ef78eab",
   "metadata": {},
   "outputs": [
    {
     "ename": "DoesNotExist",
     "evalue": "ProductCategory matching query does not exist.",
     "output_type": "error",
     "traceback": [
      "\u001b[0;31m---------------------------------------------------------------------------\u001b[0m",
      "\u001b[0;31mDoesNotExist\u001b[0m                              Traceback (most recent call last)",
      "Cell \u001b[0;32mIn[76], line 1\u001b[0m\n\u001b[0;32m----> 1\u001b[0m toys_and_games \u001b[38;5;241m=\u001b[39m \u001b[43mProductCategory\u001b[49m\u001b[38;5;241;43m.\u001b[39;49m\u001b[43mobjects\u001b[49m\u001b[38;5;241;43m.\u001b[39;49m\u001b[43mget\u001b[49m\u001b[43m(\u001b[49m\u001b[43mname\u001b[49m\u001b[38;5;241;43m=\u001b[39;49m\u001b[38;5;124;43m'\u001b[39;49m\u001b[38;5;124;43mToys and Games\u001b[39;49m\u001b[38;5;124;43m'\u001b[39;49m\u001b[43m)\u001b[49m\n\u001b[1;32m      2\u001b[0m books_and_toys \u001b[38;5;241m=\u001b[39m ProductCategory\u001b[38;5;241m.\u001b[39mobjects\u001b[38;5;241m.\u001b[39mget(name\u001b[38;5;241m=\u001b[39m\u001b[38;5;124m'\u001b[39m\u001b[38;5;124mBooks and Toys\u001b[39m\u001b[38;5;124m'\u001b[39m)\n\u001b[1;32m      4\u001b[0m product_toys_and_games \u001b[38;5;241m=\u001b[39m Product\u001b[38;5;241m.\u001b[39mobjects\u001b[38;5;241m.\u001b[39mfilter(categories\u001b[38;5;241m=\u001b[39mtoys_and_games)\n",
      "File \u001b[0;32m~/Desktop/week4/myvenv4/lib/python3.8/site-packages/django/db/models/manager.py:87\u001b[0m, in \u001b[0;36mBaseManager._get_queryset_methods.<locals>.create_method.<locals>.manager_method\u001b[0;34m(self, *args, **kwargs)\u001b[0m\n\u001b[1;32m     85\u001b[0m \u001b[38;5;129m@wraps\u001b[39m(method)\n\u001b[1;32m     86\u001b[0m \u001b[38;5;28;01mdef\u001b[39;00m \u001b[38;5;21mmanager_method\u001b[39m(\u001b[38;5;28mself\u001b[39m, \u001b[38;5;241m*\u001b[39margs, \u001b[38;5;241m*\u001b[39m\u001b[38;5;241m*\u001b[39mkwargs):\n\u001b[0;32m---> 87\u001b[0m     \u001b[38;5;28;01mreturn\u001b[39;00m \u001b[38;5;28;43mgetattr\u001b[39;49m\u001b[43m(\u001b[49m\u001b[38;5;28;43mself\u001b[39;49m\u001b[38;5;241;43m.\u001b[39;49m\u001b[43mget_queryset\u001b[49m\u001b[43m(\u001b[49m\u001b[43m)\u001b[49m\u001b[43m,\u001b[49m\u001b[43m \u001b[49m\u001b[43mname\u001b[49m\u001b[43m)\u001b[49m\u001b[43m(\u001b[49m\u001b[38;5;241;43m*\u001b[39;49m\u001b[43margs\u001b[49m\u001b[43m,\u001b[49m\u001b[43m \u001b[49m\u001b[38;5;241;43m*\u001b[39;49m\u001b[38;5;241;43m*\u001b[39;49m\u001b[43mkwargs\u001b[49m\u001b[43m)\u001b[49m\n",
      "File \u001b[0;32m~/Desktop/week4/myvenv4/lib/python3.8/site-packages/django/db/models/query.py:637\u001b[0m, in \u001b[0;36mQuerySet.get\u001b[0;34m(self, *args, **kwargs)\u001b[0m\n\u001b[1;32m    635\u001b[0m     \u001b[38;5;28;01mreturn\u001b[39;00m clone\u001b[38;5;241m.\u001b[39m_result_cache[\u001b[38;5;241m0\u001b[39m]\n\u001b[1;32m    636\u001b[0m \u001b[38;5;28;01mif\u001b[39;00m \u001b[38;5;129;01mnot\u001b[39;00m num:\n\u001b[0;32m--> 637\u001b[0m     \u001b[38;5;28;01mraise\u001b[39;00m \u001b[38;5;28mself\u001b[39m\u001b[38;5;241m.\u001b[39mmodel\u001b[38;5;241m.\u001b[39mDoesNotExist(\n\u001b[1;32m    638\u001b[0m         \u001b[38;5;124m\"\u001b[39m\u001b[38;5;132;01m%s\u001b[39;00m\u001b[38;5;124m matching query does not exist.\u001b[39m\u001b[38;5;124m\"\u001b[39m \u001b[38;5;241m%\u001b[39m \u001b[38;5;28mself\u001b[39m\u001b[38;5;241m.\u001b[39mmodel\u001b[38;5;241m.\u001b[39m_meta\u001b[38;5;241m.\u001b[39mobject_name\n\u001b[1;32m    639\u001b[0m     )\n\u001b[1;32m    640\u001b[0m \u001b[38;5;28;01mraise\u001b[39;00m \u001b[38;5;28mself\u001b[39m\u001b[38;5;241m.\u001b[39mmodel\u001b[38;5;241m.\u001b[39mMultipleObjectsReturned(\n\u001b[1;32m    641\u001b[0m     \u001b[38;5;124m\"\u001b[39m\u001b[38;5;124mget() returned more than one \u001b[39m\u001b[38;5;132;01m%s\u001b[39;00m\u001b[38;5;124m -- it returned \u001b[39m\u001b[38;5;132;01m%s\u001b[39;00m\u001b[38;5;124m!\u001b[39m\u001b[38;5;124m\"\u001b[39m\n\u001b[1;32m    642\u001b[0m     \u001b[38;5;241m%\u001b[39m (\n\u001b[0;32m   (...)\u001b[0m\n\u001b[1;32m    645\u001b[0m     )\n\u001b[1;32m    646\u001b[0m )\n",
      "\u001b[0;31mDoesNotExist\u001b[0m: ProductCategory matching query does not exist."
     ]
    }
   ],
   "source": [
    "toys_and_games = ProductCategory.objects.get(name='Toys and Games')\n",
    "books_and_toys = ProductCategory.objects.get(name='Books and Toys')\n",
    "\n",
    "product_toys_and_games = Product.objects.filter(categories=toys_and_games)\n",
    "\n",
    "for product in product_toys_and_games:\n",
    "    product.categories.add(books_and_toys)\n",
    "    product.categories.remove(toys_and_games) \n",
    "\n",
    "count = Product.objects.filter(categories=books_and_toys).count()\n",
    "\n",
    "print(count)\n",
    "\n",
    "# toys_and_games.delete()\n"
   ]
  },
  {
   "cell_type": "code",
   "execution_count": null,
   "id": "aaf9b300",
   "metadata": {},
   "outputs": [],
   "source": []
  },
  {
   "cell_type": "code",
   "execution_count": null,
   "id": "1b309903",
   "metadata": {},
   "outputs": [],
   "source": []
  }
 ],
 "metadata": {
  "kernelspec": {
   "display_name": "Django Shell-Plus",
   "language": "python",
   "name": "django_extensions"
  },
  "language_info": {
   "codemirror_mode": {
    "name": "ipython",
    "version": 3
   },
   "file_extension": ".py",
   "mimetype": "text/x-python",
   "name": "python",
   "nbconvert_exporter": "python",
   "pygments_lexer": "ipython3",
   "version": "3.8.10"
  }
 },
 "nbformat": 4,
 "nbformat_minor": 5
}
